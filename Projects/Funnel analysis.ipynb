{
 "cells": [
  {
   "cell_type": "code",
   "execution_count": 2,
   "id": "66b381d1",
   "metadata": {},
   "outputs": [],
   "source": [
    "import numpy as np\n",
    "import pandas as pd\n",
    "import seaborn as sns\n"
   ]
  },
  {
   "cell_type": "code",
   "execution_count": 3,
   "id": "aacdb68e",
   "metadata": {},
   "outputs": [],
   "source": [
    "# DESCRIPTION\n",
    "\n",
    "# The data presents user events from an online cosmetics store for October in 2019\n",
    "# There are four event types: 'view', 'cart', 'remove-from-cart' and 'purchase'\n",
    "\n",
    "\n",
    "\n",
    "# DATA\n",
    "\n",
    "# The data is taken from Kaggle\n",
    "# https://www.kaggle.com/mkechinov/ecommerce-events-history-in-cosmetics-shop\n",
    "\n",
    "\n",
    "\n",
    "# GOAL\n",
    "\n",
    "# To conduct a funnel analysis \n",
    "\n",
    "\n",
    "\n",
    "# METHODS: \n",
    "\n",
    "# To achive the goal the AIDA model is used\n",
    "# The AIDA model consists of four steps - Attention, Interest, Desire and Action\n",
    "# For more details read this article: https://amplitude.com/blog/funnel-analysis-in-five-industries\n",
    "# The data only contains rows for the last three steps\n",
    "# The 'view' event type is considered as Interest\n",
    "# The 'cart' event type is considered as Desire\n",
    "# The 'purchase' event type is considered as Action\n"
   ]
  },
  {
   "cell_type": "code",
   "execution_count": 3,
   "id": "77f9976c",
   "metadata": {},
   "outputs": [],
   "source": [
    "data_set = pd.read_csv('2019-Oct.csv')\n",
    "\n",
    "data_set = data_set.iloc[:,[0,1,2,7,8]]\n",
    "\n",
    "data_set = data_set[data_set.iloc[:,4].notnull()]\n"
   ]
  },
  {
   "cell_type": "code",
   "execution_count": 160,
   "id": "fabb6b37",
   "metadata": {},
   "outputs": [],
   "source": [
    "# ASSUMPTIONS (1)\n",
    "\n",
    "\n",
    "# Here you can see the assumptions based on which the code below is written.\n",
    "# Some of them are taken because of the lack of information about how the website actually works\n",
    "\n",
    "# 1) - The store is a typical website with the search bar for selling different items which has the main page and seperate \n",
    "# pages for all products\n",
    "\n",
    "# 2) - A session ID is changed every time a user comes back to the store after a long pause\n",
    "\n",
    "# 3) - To purchase an item users usually need to go through this path - view the item page, then add an item to the shopping \n",
    "# cart and buy it after getting on the shopping cart page.\n",
    "\n",
    "# 4) - Using this piece of code you can see that the items added to the shopping cart in the previous sessions are saved in \n",
    "# the following ones so that the user journey is decreased and additional items can be added and bought without viewing them \n",
    "# just from the shopping cart.\n",
    "\n",
    "data_set['event_time'] = pd.to_datetime(data_set['event_time'])\n",
    "\n",
    "data_set[data_set['event_time'].map(lambda x: x.day) > 10].drop_duplicates(['user_session']).head(50)\n"
   ]
  },
  {
   "cell_type": "code",
   "execution_count": 4,
   "id": "47f2d885",
   "metadata": {},
   "outputs": [],
   "source": [
    "# ASSUMPTIONS (2)\n",
    "\n",
    "\n",
    "# 5) - It's also possible that in addition to the button to add an item to the shopping cart an item page can have the button \n",
    "# to purchase an item directly from that page. It's another decreased user journey to utilize by users.\n",
    "\n",
    "# 6) - In each session user events can be related to different products. For this reason in one session all different types of\n",
    "# events are counted one time per product if happened.\n",
    "#\n",
    "# (If a user adds an item to the cart and then remove the item from it, this ation will be counted as 'cart'. And if \n",
    "# a user either browses a page, adds an item to the cart or purchases an item more than one time for the same product, each \n",
    "# event will be calculated only once.)\n",
    "#\n",
    "# It means the rows with the event type 'remove_from_cart' are not important for calculations\n",
    "\n",
    "\n",
    "# Getting the data without the rows with the event type 'remove_from_cart'\n",
    "\n",
    "data_set = data_set[data_set['event_type'] != 'remove_from_cart']\n",
    "\n",
    "data_set.index = range(len(data_set))\n"
   ]
  },
  {
   "cell_type": "code",
   "execution_count": 16,
   "id": "36ffa12f",
   "metadata": {},
   "outputs": [],
   "source": [
    "\n",
    "# Next you can see three different ways to get results\n",
    "# They are ordered by the time necessary to calculate results\n",
    "# The less time consuming way is to use a PIVOT TABLE \n",
    "# The more time consuming way is just to use basic FOR loops\n",
    "\n",
    "# The time for computing statistics by using these three ways for only 10000 rows are 119 ms, 678 ms and 5.77 s.\n",
    "# The use of a pivot_table method from pandas is almost 48.5 times faster than for loops.\n"
   ]
  },
  {
   "cell_type": "code",
   "execution_count": 42,
   "id": "64da1680",
   "metadata": {},
   "outputs": [
    {
     "name": "stdout",
     "output_type": "stream",
     "text": [
      "Wall time: 12.5 s\n"
     ]
    }
   ],
   "source": [
    "%%time\n",
    "\n",
    "data_for_pivot = data_set.iloc[:,[1,2,4]].copy()\n",
    "\n",
    "data_for_pivot['event_types'] = data_set.iloc[:,1]\n",
    "\n",
    "\n",
    "\n",
    "funnel_data = data_for_pivot \\\n",
    ".pivot_table('event_type', index = ['user_session','product_id'], columns = 'event_types', aggfunc = 'nunique').sum()\n"
   ]
  },
  {
   "cell_type": "code",
   "execution_count": 43,
   "id": "e401c992",
   "metadata": {},
   "outputs": [
    {
     "data": {
      "text/plain": [
       "<AxesSubplot:>"
      ]
     },
     "execution_count": 43,
     "metadata": {},
     "output_type": "execute_result"
    },
    {
     "data": {
      "image/png": "[encoded data removed]",
      "text/plain": [
       "<Figure size 432x288 with 1 Axes>"
      ]
     },
     "metadata": {
      "needs_background": "light"
     },
     "output_type": "display_data"
    }
   ],
   "source": [
    "funnel_data = funnel_data[['view','cart','purchase']]\n",
    "\n",
    "funnel_data = funnel_data.map(lambda x: int(x))\n",
    "\n",
    "funnel_data.index.name = ''\n",
    "\n",
    "funnel_data = funnel_data / funnel_data[0] * 100\n",
    "\n",
    "\n",
    "sns.barplot(x = funnel_data.index, y = funnel_data.values, palette=\"Blues_d\")\n"
   ]
  },
  {
   "cell_type": "code",
   "execution_count": 31,
   "id": "e186ce3f",
   "metadata": {},
   "outputs": [
    {
     "data": {
      "text/plain": [
       "2.461215745280437"
      ]
     },
     "execution_count": 31,
     "metadata": {},
     "output_type": "execute_result"
    }
   ],
   "source": [
    "# You can see a drop-off between the 'cart' bar and the 'purchase' bar\n",
    "\n",
    "# Computing how much the drop-off is by dividing the rate between the 'view' and the 'cart' bars by the rate between the 'cart' \n",
    "# and the 'purchase' bars\n",
    "\n",
    "# The rate between 'cart' and 'purchase' events is 2.46 times less\n",
    "\n",
    "(funnel_data[1] / funnel_data[0]) / (funnel_data[2] / funnel_data[1])"
   ]
  },
  {
   "cell_type": "code",
   "execution_count": null,
   "id": "535549ae",
   "metadata": {},
   "outputs": [],
   "source": [
    "# BE CAREFUL TO RUN THIS CODE FOR ALL ROWS! IT CAN TAKE MUCH TIME!"
   ]
  },
  {
   "cell_type": "code",
   "execution_count": 13,
   "id": "917982e9",
   "metadata": {},
   "outputs": [
    {
     "name": "stdout",
     "output_type": "stream",
     "text": [
      "Wall time: 678 ms\n"
     ]
    },
    {
     "data": {
      "text/plain": [
       "view        3751\n",
       "cart        2546\n",
       "purchase     822\n",
       "dtype: int64"
      ]
     },
     "execution_count": 13,
     "metadata": {},
     "output_type": "execute_result"
    }
   ],
   "source": [
    "%%time\n",
    "\n",
    "d = data_set.iloc[:10000,[1,2,4]]\n",
    "\n",
    "g = d['event_type'].groupby([d['user_session'],d['product_id']])\n",
    "\n",
    "\n",
    "event_names = pd.Series(['view','cart','purchase'])\n",
    "\n",
    "\n",
    "\n",
    "def f(x):\n",
    "    \n",
    "    global event_name\n",
    "    \n",
    "    indicator = 0\n",
    "\n",
    "    if event_name in x.values:\n",
    "        \n",
    "        indicator = 1\n",
    "    \n",
    "    return indicator\n",
    "\n",
    "\n",
    "\n",
    "for i in range(3):\n",
    "    \n",
    "    event_name = event_names[i]\n",
    "    \n",
    "    if i == 0:\n",
    "        \n",
    "        first = g.agg(f)\n",
    "        \n",
    "    else:\n",
    "        \n",
    "        first = pd.concat([first,g.agg(f)], axis = 1)\n",
    "        \n",
    "first.columns = ['view','cart','purchase']\n",
    "        \n",
    "first.sum()"
   ]
  },
  {
   "cell_type": "code",
   "execution_count": null,
   "id": "fc12d628",
   "metadata": {},
   "outputs": [],
   "source": [
    "# BE CAREFUL TO RUN THIS CODE FOR ALL ROWS! IT CAN TAKE MUCH TIME!"
   ]
  },
  {
   "cell_type": "code",
   "execution_count": 14,
   "id": "3cef4ece",
   "metadata": {},
   "outputs": [
    {
     "name": "stdout",
     "output_type": "stream",
     "text": [
      "3751 2546 822\n",
      "Wall time: 5.77 s\n"
     ]
    }
   ],
   "source": [
    "%%time\n",
    "\n",
    "d = data_set[:10000]\n",
    "\n",
    "product_ids = pd.Series(d['product_id'])\n",
    "\n",
    "product_ids.index = d['user_session']\n",
    "\n",
    "\n",
    "\n",
    "event_types = pd.Series(d['event_type'])\n",
    "\n",
    "event_types.index = d['user_session'] \n",
    "\n",
    "\n",
    "\n",
    "user_sessions = pd.Series(event_types.index.unique())\n",
    "\n",
    "\n",
    "\n",
    "t_view = 0\n",
    "\n",
    "t_cart = 0\n",
    "\n",
    "t_purchase = 0\n",
    "\n",
    "\n",
    "series_type = type(event_types)\n",
    "\n",
    "\n",
    "for i in range(len(user_sessions)):\n",
    "    \n",
    "    \n",
    "    if type(event_types[user_sessions[i]]) == series_type:\n",
    "        \n",
    "        session_events = event_types[user_sessions[i]]\n",
    "        \n",
    "        session_products = product_ids[user_sessions[i]]\n",
    "        \n",
    "    else:\n",
    "        \n",
    "        session_events = pd.Series(event_types[user_sessions[i]])\n",
    "        \n",
    "        session_events.index = [user_sessions[i]]\n",
    "        \n",
    "        session_products = pd.Series(product_ids[user_sessions[i]])\n",
    "        \n",
    "        session_products.index = [user_sessions[i]]\n",
    "    \n",
    "    \n",
    "    uni_sess_products = pd.Series(session_products.unique())\n",
    "\n",
    "    \n",
    "    for j in range(len(uni_sess_products)):\n",
    "        \n",
    "        \n",
    "        product_events = session_events[session_products == uni_sess_products[j]]\n",
    "        \n",
    "        if 'view' in product_events.values:\n",
    "            \n",
    "            t_view = t_view + 1\n",
    "            \n",
    "        if 'cart' in product_events.values:\n",
    "            \n",
    "            t_cart = t_cart + 1\n",
    "            \n",
    "        if 'purchase' in product_events.values:\n",
    "            \n",
    "            t_purchase = t_purchase + 1\n",
    "            \n",
    "print(t_view, t_cart, t_purchase)\n"
   ]
  }
 ],
 "metadata": {
  "kernelspec": {
   "display_name": "Python 3",
   "language": "python",
   "name": "python3"
  },
  "language_info": {
   "codemirror_mode": {
    "name": "ipython",
    "version": 3
   },
   "file_extension": ".py",
   "mimetype": "text/x-python",
   "name": "python",
   "nbconvert_exporter": "python",
   "pygments_lexer": "ipython3",
   "version": "3.8.8"
  }
 },
 "nbformat": 4,
 "nbformat_minor": 5
}
