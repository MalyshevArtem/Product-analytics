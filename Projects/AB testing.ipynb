{
 "cells": [
  {
   "cell_type": "code",
   "execution_count": 2,
   "id": "044d5799",
   "metadata": {},
   "outputs": [],
   "source": [
    "import numpy as np\n",
    "import pandas as pd\n",
    "import matplotlib.pyplot as plt\n"
   ]
  },
  {
   "cell_type": "code",
   "execution_count": 3,
   "id": "d9639e28",
   "metadata": {},
   "outputs": [],
   "source": [
    "data = pd.read_csv('ab_test.csv')"
   ]
  },
  {
   "cell_type": "code",
   "execution_count": null,
   "id": "7ed97c4f",
   "metadata": {},
   "outputs": [],
   "source": [
    "# DESCRIPTION\n",
    "\n",
    "# The data is the results of an A/B test made by an e-commerce website\n",
    "# It includes the total number of subjects and how many of them were converted both for the two pages\n",
    "\n",
    "\n",
    "\n",
    "# DATA\n",
    "\n",
    "# The data is taken from Kaggle\n",
    "# https://www.kaggle.com/ahmedmohameddawoud/ecommerce-ab-testing\n",
    "\n",
    "\n",
    "\n",
    "# GOAL\n",
    "\n",
    "# To conduct an A/B test to determine whether an observed effect is within the range of chance variation\n",
    "\n",
    "\n",
    "\n",
    "# METHODS: \n",
    "\n",
    "# To achive the goal the permutation test is used\n"
   ]
  },
  {
   "cell_type": "code",
   "execution_count": 474,
   "id": "a7b867a6",
   "metadata": {
    "scrolled": false
   },
   "outputs": [],
   "source": [
    "# ASSUMPTIONS\n",
    "\n",
    "# Because of the lack of information how the data was collected the assumptions are:\n",
    "\n",
    "# 1) - Subjects were randomly assigned to treatments\n",
    "\n",
    "# 2) - There was no sample bias\n",
    "\n",
    "# 3) - The new web page was assumed to be better than the old one\n"
   ]
  },
  {
   "cell_type": "code",
   "execution_count": 4,
   "id": "4116ba16",
   "metadata": {},
   "outputs": [
    {
     "data": {
      "text/plain": [
       "-1.2289118596614772"
      ]
     },
     "execution_count": 4,
     "metadata": {},
     "output_type": "execute_result"
    }
   ],
   "source": [
    "\n",
    "# You can see the old web page is nearly 1.2% better for conversion than the new web page\n",
    "\n",
    "ct = pd.crosstab(data['con_treat'],data['converted'])\n",
    "\n",
    "conv_rate1 = ct.iloc[0,1] / sum(ct.iloc[0]) * 100 \n",
    "\n",
    "conv_rate2 = ct.iloc[1,1] / sum(ct.iloc[1]) * 100\n",
    "\n",
    "(conv_rate2 - conv_rate1) / conv_rate1 * 100\n"
   ]
  },
  {
   "cell_type": "code",
   "execution_count": 9,
   "id": "76793b13",
   "metadata": {},
   "outputs": [
    {
     "data": {
      "text/html": [
       "<div>\n",
       "<style scoped>\n",
       "    .dataframe tbody tr th:only-of-type {\n",
       "        vertical-align: middle;\n",
       "    }\n",
       "\n",
       "    .dataframe tbody tr th {\n",
       "        vertical-align: top;\n",
       "    }\n",
       "\n",
       "    .dataframe thead th {\n",
       "        text-align: right;\n",
       "    }\n",
       "</style>\n",
       "<table border=\"1\" class=\"dataframe\">\n",
       "  <thead>\n",
       "    <tr style=\"text-align: right;\">\n",
       "      <th>converted</th>\n",
       "      <th>0</th>\n",
       "      <th>1</th>\n",
       "    </tr>\n",
       "    <tr>\n",
       "      <th>con_treat</th>\n",
       "      <th></th>\n",
       "      <th></th>\n",
       "    </tr>\n",
       "  </thead>\n",
       "  <tbody>\n",
       "    <tr>\n",
       "      <th>control</th>\n",
       "      <td>129479</td>\n",
       "      <td>17723</td>\n",
       "    </tr>\n",
       "    <tr>\n",
       "      <th>treatment</th>\n",
       "      <td>129762</td>\n",
       "      <td>17514</td>\n",
       "    </tr>\n",
       "  </tbody>\n",
       "</table>\n",
       "</div>"
      ],
      "text/plain": [
       "converted       0      1\n",
       "con_treat               \n",
       "control    129479  17723\n",
       "treatment  129762  17514"
      ]
     },
     "execution_count": 9,
     "metadata": {},
     "output_type": "execute_result"
    }
   ],
   "source": [
    "ct"
   ]
  },
  {
   "cell_type": "code",
   "execution_count": 12,
   "id": "b62fed9e",
   "metadata": {},
   "outputs": [
    {
     "data": {
      "text/plain": [
       "-0.14795997940775507"
      ]
     },
     "execution_count": 12,
     "metadata": {},
     "output_type": "execute_result"
    }
   ],
   "source": [
    "\n",
    "# The observed effect can be calculated as the difference between the conversions rates\n",
    "\n",
    "effect = conv_rate2 - conv_rate1\n",
    "\n",
    "effect"
   ]
  },
  {
   "cell_type": "code",
   "execution_count": 6,
   "id": "719e593c",
   "metadata": {
    "scrolled": false
   },
   "outputs": [],
   "source": [
    "\n",
    "# The data is big enough to make accurate decisions and the coversions results are comparable to the number of data points\n",
    "# However, the observed effect is small so it's necessary to use a resampling procedure to find out whether the difference\n",
    "# in conversions is within the range of chance variation\n",
    "\n",
    "# A null hypothesis is that there is no difference between the observed effect and what chance might produce\n",
    "\n",
    "# It's important to specify an alpha level in advance. The alpha level for this A/B test equils 5%.\n",
    "\n",
    "conversion = [0] * sum(ct.iloc[:,0])\n",
    "\n",
    "conversion.extend([1] * sum(ct.iloc[:,1]))\n",
    "\n",
    "conversion = pd.Series(conversion)\n",
    "\n",
    "\n",
    "\n",
    "# Here is the function to draw out two resamples and calculate the difference\n",
    "\n",
    "def perm_fun(x, n):\n",
    "    \n",
    "    resample_1 = x.sample(n = n)\n",
    "    \n",
    "    resample_2 = x.drop(resample_1.index)\n",
    "    \n",
    "    return (resample_2.mean() - resample_1.mean()) * 100\n",
    "\n",
    "\n",
    "\n",
    "# Using the for loop to get a permutation distribution of the test statistic\n",
    "\n",
    "perm_diffs = [perm_fun(conversion, sum(ct.iloc[0])) for _ in range(1000)]\n"
   ]
  },
  {
   "cell_type": "code",
   "execution_count": 7,
   "id": "46d6a002",
   "metadata": {
    "scrolled": false
   },
   "outputs": [
    {
     "data": {
      "text/plain": [
       "Text(0, 0.5, 'Frequency')"
      ]
     },
     "execution_count": 7,
     "metadata": {},
     "output_type": "execute_result"
    },
    {
     "data": {
      "image/png": "[encoded data removed]",
      "text/plain": [
       "<Figure size 432x432 with 1 Axes>"
      ]
     },
     "metadata": {
      "needs_background": "light"
     },
     "output_type": "display_data"
    }
   ],
   "source": [
    "# In the graph you can see the value of the observed effect (the red line) is not far away from the range of chance variation\n",
    "\n",
    "fig = plt.figure(figsize=(6, 6))\n",
    "\n",
    "ax = fig.add_subplot(1, 1, 1)\n",
    "\n",
    "ax.hist(perm_diffs, bins = 25)\n",
    "\n",
    "ax.axvline(x=effect, color='red', lw=1.5)\n",
    "\n",
    "ax.set_xlabel('The difference in conversion rates')\n",
    "\n",
    "ax.set_ylabel('Frequency')\n",
    "\n"
   ]
  },
  {
   "cell_type": "code",
   "execution_count": 13,
   "id": "0a9c2d55",
   "metadata": {},
   "outputs": [
    {
     "data": {
      "text/plain": [
       "0.111"
      ]
     },
     "execution_count": 13,
     "metadata": {},
     "output_type": "execute_result"
    }
   ],
   "source": [
    "# It's not obvious in the graph whether the observed effect is statistically significant.\n",
    "# Let's estimate a p-value from the permutation test results\n",
    "\n",
    "np.mean([diff < effect for diff in perm_diffs])\n",
    "\n",
    "# After running the code the p-values is 0.111. \n",
    "# (You can have another value but if you haven't changed other parameters your result won't be much different.)\n",
    "\n",
    "# In this case, the p-value equaled 0.111 means that either the same or the more extreme observed effect can be achived \n",
    "# roughly 11.1% of the time which is more than the alpha level of 5% for single sided test.\n"
   ]
  }
 ],
 "metadata": {
  "kernelspec": {
   "display_name": "Python 3",
   "language": "python",
   "name": "python3"
  },
  "language_info": {
   "codemirror_mode": {
    "name": "ipython",
    "version": 3
   },
   "file_extension": ".py",
   "mimetype": "text/x-python",
   "name": "python",
   "nbconvert_exporter": "python",
   "pygments_lexer": "ipython3",
   "version": "3.8.8"
  }
 },
 "nbformat": 4,
 "nbformat_minor": 5
}
