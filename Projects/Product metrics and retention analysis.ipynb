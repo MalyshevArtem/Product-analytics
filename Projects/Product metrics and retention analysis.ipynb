{
 "cells": [
  {
   "cell_type": "code",
   "execution_count": 1,
   "id": "23c3b603",
   "metadata": {},
   "outputs": [],
   "source": [
    "import numpy as np\n",
    "import pandas as pd\n",
    "import sklearn as sk\n",
    "import seaborn as sns\n",
    "import matplotlib.pyplot as plt\n"
   ]
  },
  {
   "cell_type": "code",
   "execution_count": null,
   "id": "1781d298",
   "metadata": {},
   "outputs": [],
   "source": [
    "# DESCRIPTION\n",
    "\n",
    "# The data presents user events from an online cosmetics store from December 2010 to December 2011\n",
    "# It's taken from Kaggle\n",
    "# https://www.kaggle.com/vijayuv/onlineretail\n",
    "\n",
    "\n",
    "\n",
    "# GOAL\n",
    "\n",
    "# To compute product metrics such as\n",
    "# - weekly active users (WAB)\n",
    "# - new weeklu active buyers\n",
    "# - engagement\n",
    "# and to conduct a retention analysis\n",
    "\n",
    "\n",
    "\n",
    "# METHODS: \n",
    "\n",
    "# To achive the goal the next sources with the information about methods to calculate the metrics were used:\n",
    "# https://mixpanel.com/content/guide-to-product-metrics/full-report/\n",
    "# https://amplitude.com/blog/3-ways-measure-user-retention\n",
    "# https://mixpanel.com/blog/using-cohorts-to-better-understand-engage-with-your-customers/"
   ]
  },
  {
   "cell_type": "code",
   "execution_count": 2,
   "id": "4552ce74",
   "metadata": {},
   "outputs": [],
   "source": [
    "data_set = pd.read_csv('Data/OnlineRetail.csv')"
   ]
  },
  {
   "cell_type": "code",
   "execution_count": 3,
   "id": "b9b068b5",
   "metadata": {},
   "outputs": [],
   "source": [
    "# Cleaning up all of the values equaled NaN\n",
    "\n",
    "data_set = data_set[data_set['CustomerID'].notnull()]\n",
    "\n",
    "\n",
    "\n",
    "# Converting the type of Invoice Date Field from string to datetime\n",
    "\n",
    "data_set['InvoiceDate'] = pd.to_datetime(data_set['InvoiceDate'])\n"
   ]
  },
  {
   "cell_type": "code",
   "execution_count": null,
   "id": "a2852ea4",
   "metadata": {},
   "outputs": [],
   "source": []
  },
  {
   "cell_type": "markdown",
   "id": "537182b2",
   "metadata": {},
   "source": [
    "# THE FOCUS METRIC - Weekly active buyers (WAB)"
   ]
  },
  {
   "cell_type": "code",
   "execution_count": null,
   "id": "c6a2cb49",
   "metadata": {},
   "outputs": [],
   "source": []
  },
  {
   "cell_type": "code",
   "execution_count": 4,
   "id": "c4ee9f68",
   "metadata": {},
   "outputs": [],
   "source": [
    "# Considering the rows only for 2011\n",
    "\n",
    "def f(x):\n",
    "    \n",
    "    if x.year == 2010: \n",
    "        \n",
    "        return False \n",
    "    \n",
    "    else: \n",
    "        \n",
    "        return True\n",
    "\n",
    "data_set = data_set[data_set['InvoiceDate'].map(f)]\n"
   ]
  },
  {
   "cell_type": "code",
   "execution_count": 5,
   "id": "8df38004",
   "metadata": {},
   "outputs": [],
   "source": [
    "# Writing the transformed data out to a file\n",
    "\n",
    "data_set.to_csv('Data/transformed_data_set.csv')"
   ]
  },
  {
   "cell_type": "code",
   "execution_count": 9,
   "id": "70678af8",
   "metadata": {},
   "outputs": [],
   "source": [
    "# Creating a series with day numbers from 2011-01-04 to 2011-12-09 (the first and last days in 2011 in the data)\n",
    "\n",
    "# !!! Attention: in this data the store has purchases every day during the period  \n",
    "\n",
    "\n",
    "day_numbers = pd.Series(range(len(data_set)))\n",
    "\n",
    "invoice_date = pd.Series(data_set['InvoiceDate'])\n",
    "\n",
    "month_number = invoice_date.iloc[0].month\n",
    "\n",
    "last_month_day = 0\n",
    "\n",
    "\n",
    "for i in range(len(data_set)): \n",
    "    \n",
    "    if invoice_date.iloc[i].month == month_number:\n",
    "        \n",
    "        day_numbers[i] = invoice_date.iloc[i].day + last_month_day\n",
    "        \n",
    "    else: \n",
    "        \n",
    "        month_number = invoice_date.iloc[i].month\n",
    "        \n",
    "        last_month_day = day_numbers[i-1]\n",
    "        \n",
    "        day_numbers[i] = invoice_date.iloc[i].day + last_month_day\n"
   ]
  },
  {
   "cell_type": "code",
   "execution_count": 10,
   "id": "0772d7e2",
   "metadata": {},
   "outputs": [],
   "source": [
    "# Creating a series with week numbers from 2011-01-04 to 2011-12-09\n",
    "\n",
    "\n",
    "week_number = 1\n",
    "\n",
    "days_in_a_week = 7\n",
    "\n",
    "next_week_day = day_numbers[0] + days_in_a_week\n",
    "\n",
    "week_numbers = pd.Series(range(len(data_set)))\n",
    "\n",
    "\n",
    "for i in range(len(data_set)):\n",
    "    \n",
    "    if day_numbers[i] < next_week_day:\n",
    "        \n",
    "        week_numbers[i] = week_number\n",
    "    \n",
    "    else:\n",
    "        \n",
    "        next_week_day = next_week_day + days_in_a_week\n",
    "        \n",
    "        week_number = week_number + 1\n",
    "        \n",
    "        week_numbers[i] = week_number\n"
   ]
  },
  {
   "cell_type": "code",
   "execution_count": 11,
   "id": "9ab856da",
   "metadata": {},
   "outputs": [],
   "source": [
    "# Adding the series to the table as a new field\n",
    "\n",
    "\n",
    "data_set.index = range(len(data_set))\n",
    "\n",
    "data_set['WeekNo'] = week_numbers"
   ]
  },
  {
   "cell_type": "code",
   "execution_count": 12,
   "id": "4a67ce48",
   "metadata": {
    "scrolled": true
   },
   "outputs": [
    {
     "data": {
      "text/plain": [
       "Text(0.5, 0, 'weeks')"
      ]
     },
     "execution_count": 12,
     "metadata": {},
     "output_type": "execute_result"
    },
    {
     "data": {
      "image/png": "[encoded data removed]",
      "text/plain": [
       "<Figure size 432x288 with 1 Axes>"
      ]
     },
     "metadata": {
      "needs_background": "light"
     },
     "output_type": "display_data"
    }
   ],
   "source": [
    "# Calculating WAB and visualizing the metric \n",
    "\n",
    "\n",
    "grouped = data_set['CustomerID'].groupby(data_set['WeekNo'])\n",
    "\n",
    "WAB = grouped.apply(lambda x: pd.Series(x.unique()).count())\n",
    "\n",
    "WAB.name = 'WAB'\n",
    "\n",
    "WAB.index.name = ''\n",
    "\n",
    "\n",
    "fig = plt.figure()\n",
    "\n",
    "ax = fig.add_subplot(1, 1, 1)\n",
    "\n",
    "ax.plot(WAB.index, WAB)\n",
    "\n",
    "ax.set_title('Weekly active users')\n",
    "\n",
    "ax.set_xlabel('weeks')\n"
   ]
  },
  {
   "cell_type": "code",
   "execution_count": 20,
   "id": "e3781dff",
   "metadata": {},
   "outputs": [
    {
     "data": {
      "text/plain": [
       "count     48.000000\n",
       "mean     337.895833\n",
       "std      101.100801\n",
       "min      190.000000\n",
       "25%      270.500000\n",
       "50%      310.000000\n",
       "75%      387.750000\n",
       "max      614.000000\n",
       "Name: WAB, dtype: float64"
      ]
     },
     "execution_count": 20,
     "metadata": {},
     "output_type": "execute_result"
    }
   ],
   "source": [
    "# To get statistics the describe method is used without the last element because of the lack of the data for other days in this\n",
    "# week\n",
    "\n",
    "WAB.iloc[:-1].describe()"
   ]
  },
  {
   "cell_type": "code",
   "execution_count": 13,
   "id": "2a8f953d",
   "metadata": {},
   "outputs": [],
   "source": [
    "# Writing the resulting data out to files\n",
    "\n",
    "data_set.to_csv('Data/Data_set_with_weeks.csv')\n",
    "\n",
    "WAB.to_csv('Results/WAB.csv')"
   ]
  },
  {
   "cell_type": "code",
   "execution_count": null,
   "id": "28de8856",
   "metadata": {},
   "outputs": [],
   "source": []
  },
  {
   "cell_type": "markdown",
   "id": "9fe76ec8",
   "metadata": {},
   "source": [
    "# New active buyers by week"
   ]
  },
  {
   "cell_type": "code",
   "execution_count": 14,
   "id": "aa3a7e44",
   "metadata": {},
   "outputs": [],
   "source": [
    "data_set = pd.read_csv('Data/Data_set_with_weeks.csv')\n",
    "\n",
    "del data_set['Unnamed: 0']"
   ]
  },
  {
   "cell_type": "code",
   "execution_count": 15,
   "id": "0536f413",
   "metadata": {},
   "outputs": [
    {
     "data": {
      "text/plain": [
       "Text(0.5, 0, 'weeks')"
      ]
     },
     "execution_count": 15,
     "metadata": {},
     "output_type": "execute_result"
    },
    {
     "data": {
      "image/png": "[encoded data removed]",
      "text/plain": [
       "<Figure size 432x288 with 1 Axes>"
      ]
     },
     "metadata": {
      "needs_background": "light"
     },
     "output_type": "display_data"
    }
   ],
   "source": [
    "# Computing the count of new active buyers per week\n",
    "\n",
    "\n",
    "# Getting unique customer IDs for every week\n",
    "\n",
    "grouped = data_set['CustomerID'].groupby(data_set['WeekNo'])\n",
    "\n",
    "unique_by_week = grouped.apply(lambda x: pd.Series(x.unique()))\n",
    "\n",
    "\n",
    "\n",
    "number_of_weeks = data_set['WeekNo'].max()\n",
    "  \n",
    "ex_act_buyers = []\n",
    "\n",
    "new_act_buyers_by_week = pd.Series(range(number_of_weeks))\n",
    "\n",
    "new_act_buyers_by_week.index = new_act_buyers_by_week.index + 1\n",
    "\n",
    "new_act_buyers = 0\n",
    "\n",
    "\n",
    "\n",
    "for i in range(number_of_weeks):\n",
    "    \n",
    "    for j in range(len(unique_by_week.loc[i+1])):\n",
    "        \n",
    "        if unique_by_week.loc[i+1,j] not in ex_act_buyers:\n",
    "            \n",
    "            new_act_buyers = new_act_buyers + 1\n",
    "            \n",
    "            ex_act_buyers.append(unique_by_week.loc[i+1,j])\n",
    "    \n",
    "    new_act_buyers_by_week.iloc[i] = new_act_buyers\n",
    "    \n",
    "    new_act_buyers = 0\n",
    "\n",
    "\n",
    "\n",
    "fig = plt.figure()\n",
    "\n",
    "ax = fig.add_subplot(1, 1, 1)\n",
    "\n",
    "ax.plot(new_act_buyers_by_week.index, new_act_buyers_by_week)\n",
    "\n",
    "ax.set_title('New active users by week')\n",
    "\n",
    "ax.set_xlabel('weeks')\n"
   ]
  },
  {
   "cell_type": "code",
   "execution_count": 27,
   "id": "224b1b27",
   "metadata": {},
   "outputs": [
    {
     "data": {
      "text/plain": [
       "count     48.00000\n",
       "mean      88.31250\n",
       "std       44.91844\n",
       "min       36.00000\n",
       "25%       59.25000\n",
       "50%       80.00000\n",
       "75%      104.50000\n",
       "max      261.00000\n",
       "dtype: float64"
      ]
     },
     "execution_count": 27,
     "metadata": {},
     "output_type": "execute_result"
    }
   ],
   "source": [
    "# To get statistics the describe method is used without the last element because of the lack of the data for other days in this\n",
    "# week\n",
    "\n",
    "new_act_buyers_by_week.iloc[:-1].describe()"
   ]
  },
  {
   "cell_type": "code",
   "execution_count": 224,
   "id": "d707fb43",
   "metadata": {},
   "outputs": [],
   "source": [
    "# Writing the resulting data out to a file\n",
    "\n",
    "new_act_buyers_by_week.to_csv('Results/new_act_buyers_by_week.csv')"
   ]
  },
  {
   "cell_type": "code",
   "execution_count": null,
   "id": "e390bfe8",
   "metadata": {},
   "outputs": [],
   "source": []
  },
  {
   "cell_type": "code",
   "execution_count": null,
   "id": "a79385f2",
   "metadata": {},
   "outputs": [],
   "source": []
  },
  {
   "cell_type": "markdown",
   "id": "bec9f0f7",
   "metadata": {},
   "source": [
    "# Engagement"
   ]
  },
  {
   "cell_type": "code",
   "execution_count": null,
   "id": "042f2d2e",
   "metadata": {},
   "outputs": [],
   "source": []
  },
  {
   "cell_type": "code",
   "execution_count": 172,
   "id": "e89c14a0",
   "metadata": {},
   "outputs": [],
   "source": [
    "data_set = pd.read_csv('Data/Data_set_with_weeks.csv')\n",
    "\n",
    "del data_set['Unnamed: 0']"
   ]
  },
  {
   "cell_type": "code",
   "execution_count": 64,
   "id": "6218829f",
   "metadata": {},
   "outputs": [
    {
     "data": {
      "text/plain": [
       "(0.0, 50.0, 0.0, 200000.0)"
      ]
     },
     "execution_count": 64,
     "metadata": {},
     "output_type": "execute_result"
    },
    {
     "data": {
      "image/png": "[encoded data removed]",
      "text/plain": [
       "<Figure size 432x288 with 1 Axes>"
      ]
     },
     "metadata": {
      "needs_background": "light"
     },
     "output_type": "display_data"
    }
   ],
   "source": [
    "# As the key action is a purchase the engagement metric can be defined as the number of key actions taken by week\n",
    "\n",
    "\n",
    "engagement = data_set['Quantity'].groupby(data_set['WeekNo']).sum()\n",
    "\n",
    "\n",
    "\n",
    "limits = [0, 50, 0, 200000]\n",
    "\n",
    "fig = plt.figure()\n",
    "\n",
    "ax = fig.add_subplot(1, 1, 1)\n",
    "\n",
    "ax.plot(engagement.index, engagement)\n",
    "\n",
    "ax.set_title('Engagement by week')\n",
    "\n",
    "ax.set_xlabel('weeks')\n",
    "\n",
    "ax.axis(limits)"
   ]
  },
  {
   "cell_type": "code",
   "execution_count": 66,
   "id": "ce9a951a",
   "metadata": {},
   "outputs": [
    {
     "data": {
      "text/plain": [
       "(0.0, 50.0, 0.0, 500.0)"
      ]
     },
     "execution_count": 66,
     "metadata": {},
     "output_type": "execute_result"
    },
    {
     "data": {
      "image/png": "[encoded data removed]",
      "text/plain": [
       "<Figure size 432x288 with 1 Axes>"
      ]
     },
     "metadata": {
      "needs_background": "light"
     },
     "output_type": "display_data"
    }
   ],
   "source": [
    "# It's important to determine engagement per user as well\n",
    "\n",
    "\n",
    "WAB = pd.read_csv('Results/WAB.csv')\n",
    "\n",
    "WAB = WAB.set_index('Unnamed: 0')\n",
    "\n",
    "WAB.index.name = 'WeekNo'\n",
    "\n",
    "engagement_per_user = engagement / WAB['WAB']\n",
    "\n",
    "\n",
    "\n",
    "limits = [0, 50, 0, 500]\n",
    "\n",
    "fig = plt.figure()\n",
    "\n",
    "ax = fig.add_subplot(1, 1, 1)\n",
    "\n",
    "ax.plot(engagement_per_user.index, engagement_per_user)\n",
    "\n",
    "ax.set_title('Engagement per user by week')\n",
    "\n",
    "ax.set_xlabel('weeks')\n",
    "\n",
    "ax.axis(limits)\n"
   ]
  },
  {
   "cell_type": "code",
   "execution_count": 68,
   "id": "22d37932",
   "metadata": {},
   "outputs": [
    {
     "data": {
      "text/plain": [
       "count     48.000000\n",
       "mean     279.964027\n",
       "std       44.422653\n",
       "min      205.111588\n",
       "25%      249.749262\n",
       "50%      277.098193\n",
       "75%      306.958416\n",
       "max      395.307042\n",
       "dtype: float64"
      ]
     },
     "execution_count": 68,
     "metadata": {},
     "output_type": "execute_result"
    }
   ],
   "source": [
    "# To get statistics the describe method is used without the last element because of the lack of the data for other days in this\n",
    "# week\n",
    "\n",
    "engagement_per_user.iloc[:-1].describe()"
   ]
  },
  {
   "cell_type": "code",
   "execution_count": 175,
   "id": "fcf9e26f",
   "metadata": {},
   "outputs": [],
   "source": [
    "# Writing the resulting data out to a file\n",
    "\n",
    "engagement_per_user.to_csv('Results/engagement_per_user.csv')"
   ]
  },
  {
   "cell_type": "code",
   "execution_count": null,
   "id": "0316c100",
   "metadata": {},
   "outputs": [],
   "source": []
  },
  {
   "cell_type": "code",
   "execution_count": null,
   "id": "b6a4eaa8",
   "metadata": {},
   "outputs": [],
   "source": []
  },
  {
   "cell_type": "markdown",
   "id": "b8923ca9",
   "metadata": {},
   "source": [
    "# Retention: 1-month buyer retention rate"
   ]
  },
  {
   "cell_type": "code",
   "execution_count": 6,
   "id": "4d0d34ea",
   "metadata": {},
   "outputs": [],
   "source": [
    "data_set = pd.read_csv('Data/transformed_data_set.csv')\n",
    "\n",
    "del data_set['Unnamed: 0']\n"
   ]
  },
  {
   "cell_type": "code",
   "execution_count": 7,
   "id": "7fd02d39",
   "metadata": {},
   "outputs": [],
   "source": [
    "# Converting the type of Invoice Date Field from string to datetime and adding a new column with month numbers\n",
    "\n",
    "data_set['InvoiceDate'] = pd.to_datetime(data_set['InvoiceDate'])\n",
    "\n",
    "data_set['MonthNo'] = data_set['InvoiceDate'].map(lambda x: x.month)\n"
   ]
  },
  {
   "cell_type": "code",
   "execution_count": 22,
   "id": "efe829f0",
   "metadata": {},
   "outputs": [
    {
     "data": {
      "text/plain": [
       "(1.0, 12.0, 0.0, 100.0)"
      ]
     },
     "execution_count": 22,
     "metadata": {},
     "output_type": "execute_result"
    },
    {
     "data": {
      "image/png": "[encoded data removed]",
      "text/plain": [
       "<Figure size 432x288 with 1 Axes>"
      ]
     },
     "metadata": {
      "needs_background": "light"
     },
     "output_type": "display_data"
    }
   ],
   "source": [
    "# Calculating 1-month buyer retention rate from January to November in 2011\n",
    "# The data has no rows in January in 2012 so the retention rate for December in 2011 is not computed\n",
    "\n",
    "\n",
    "# Using the crosstab() function to get unique customer IDs and their frequencies for each month\n",
    "\n",
    "customers_months = pd.crosstab(data_set['CustomerID'],data_set['MonthNo'])\n",
    "\n",
    "\n",
    "\n",
    "# Creating an empty table for statistics \n",
    "\n",
    "retention = pd.DataFrame(np.arange(22).reshape(11,2), columns=['Total_Active_Users','Retained_Active_Users'])\n",
    "\n",
    "retention.index = retention.index + 1\n",
    "\n",
    "retention.index.name = 'MonthNo'\n",
    "\n",
    "\n",
    "\n",
    "# Calculating the total number of active users in a month and the retained number of active users in the next month\n",
    "\n",
    "for i in range(len(customers_months.columns)-1):\n",
    "    \n",
    "    retention.iloc[i,0] = len(customers_months[customers_months[i+1] > 0])\n",
    "    \n",
    "    retention.iloc[i,1] = len(customers_months[(customers_months[i+1] > 0) & (customers_months[i+2] > 0)])\n",
    "\n",
    "    \n",
    "\n",
    "# Creating a new column and adding retention rates in \n",
    "    \n",
    "retention['Retention_Rate'] = retention['Retained_Active_Users'] / retention['Total_Active_Users'] * 100\n",
    "\n",
    "\n",
    "\n",
    "limits = [1, 12, 0, 100]\n",
    "\n",
    "fig = plt.figure()\n",
    "\n",
    "ax = fig.add_subplot(1, 1, 1)\n",
    "\n",
    "ax.plot(retention['Retention_Rate'].index, retention['Retention_Rate'])\n",
    "\n",
    "ax.set_title('One month buyer retention rate')\n",
    "\n",
    "ax.set_xlabel('months')\n",
    "\n",
    "ax.axis(limits)\n"
   ]
  },
  {
   "cell_type": "code",
   "execution_count": 182,
   "id": "d4d20474",
   "metadata": {},
   "outputs": [],
   "source": [
    "# Writing the resulting data out to files\n",
    "\n",
    "data_set.to_csv('Data/Data_set_with_months.csv')\n",
    "\n",
    "retention.to_csv('Results/retention.csv')"
   ]
  },
  {
   "cell_type": "code",
   "execution_count": null,
   "id": "34c88e4b",
   "metadata": {},
   "outputs": [],
   "source": []
  },
  {
   "cell_type": "code",
   "execution_count": null,
   "id": "b3a6dfaa",
   "metadata": {},
   "outputs": [],
   "source": []
  },
  {
   "cell_type": "markdown",
   "id": "67d5be34",
   "metadata": {},
   "source": [
    "# Retention: unbounded retention"
   ]
  },
  {
   "cell_type": "code",
   "execution_count": null,
   "id": "3633618b",
   "metadata": {},
   "outputs": [],
   "source": []
  },
  {
   "cell_type": "code",
   "execution_count": 21,
   "id": "7be382c9",
   "metadata": {},
   "outputs": [
    {
     "data": {
      "text/plain": [
       "(1.0, 13.0, 0.0, 120.0)"
      ]
     },
     "execution_count": 21,
     "metadata": {},
     "output_type": "execute_result"
    },
    {
     "data": {
      "image/png": "[encoded data removed]",
      "text/plain": [
       "<Figure size 432x288 with 1 Axes>"
      ]
     },
     "metadata": {
      "needs_background": "light"
     },
     "output_type": "display_data"
    }
   ],
   "source": [
    "# To see what unbounded retention is read this article: https://amplitude.com/blog/3-ways-measure-user-retention\n",
    "\n",
    "\n",
    "\n",
    "# Calculating unbounded retention only for the first month active buyers in 2011\n",
    "\n",
    "customers_months = customers_months[customers_months[1] > 0]\n",
    "\n",
    "\n",
    "\n",
    "# Creating and preparing a series for the metric\n",
    "\n",
    "unbounded_retention = pd.Series(range(12), index=np.arange(1,13,1))\n",
    "\n",
    "unbounded_retention[1] = len(customers_months)\n",
    "\n",
    "number = 0\n",
    "\n",
    "\n",
    "\n",
    "# Computing the total numbers of retained active buyers\n",
    "\n",
    "for i in range(len(customers_months.columns)-1):\n",
    "    \n",
    "    for j in range(len(customers_months)):\n",
    "            \n",
    "        if (customers_months.iloc[j, i+1:] > 0).sum() > 0:\n",
    "            \n",
    "            number = number + 1\n",
    "            \n",
    "    unbounded_retention[i+2] = number\n",
    "            \n",
    "    number = 0\n",
    "\n",
    "\n",
    "\n",
    "# Getting unbounded retention as a percentage    \n",
    "\n",
    "unbounded_retention = unbounded_retention / unbounded_retention[1] * 100\n",
    "\n",
    "\n",
    "\n",
    "limits = [1, 13, 0, 120]\n",
    "\n",
    "fig = plt.figure()\n",
    "\n",
    "ax = fig.add_subplot(1, 1, 1)\n",
    "\n",
    "ax.plot(unbounded_retention.index, unbounded_retention)\n",
    "\n",
    "ax.set_title('Unbounded retention')\n",
    "\n",
    "ax.set_xlabel('months')\n",
    "\n",
    "ax.axis(limits)"
   ]
  },
  {
   "cell_type": "code",
   "execution_count": 183,
   "id": "8e4ac6c6",
   "metadata": {},
   "outputs": [],
   "source": [
    "# Writing the resulting data out to files\n",
    "\n",
    "unbounded_retention.to_csv('Results/unbounded_retention.csv')"
   ]
  },
  {
   "cell_type": "code",
   "execution_count": null,
   "id": "8462ceac",
   "metadata": {},
   "outputs": [],
   "source": []
  },
  {
   "cell_type": "code",
   "execution_count": null,
   "id": "6a1d6d24",
   "metadata": {},
   "outputs": [],
   "source": []
  },
  {
   "cell_type": "markdown",
   "id": "1a32a9f8",
   "metadata": {},
   "source": [
    "# Retention analysis: cohorts based on months"
   ]
  },
  {
   "cell_type": "code",
   "execution_count": null,
   "id": "192d1ef2",
   "metadata": {},
   "outputs": [],
   "source": []
  },
  {
   "cell_type": "code",
   "execution_count": 401,
   "id": "71fc8ec1",
   "metadata": {},
   "outputs": [],
   "source": [
    "data_set = pd.read_csv('Data/transformed_data_set.csv')\n",
    "\n",
    "del data_set['Unnamed: 0']\n",
    "\n",
    "\n",
    "\n",
    "# Converting the type of Invoice Date Field from string to datetime\n",
    "\n",
    "data_set['InvoiceDate'] = pd.to_datetime(data_set['InvoiceDate'])\n"
   ]
  },
  {
   "cell_type": "code",
   "execution_count": 472,
   "id": "fee7e280",
   "metadata": {
    "scrolled": false
   },
   "outputs": [
    {
     "data": {
      "text/html": [
       "<div>\n",
       "<style scoped>\n",
       "    .dataframe tbody tr th:only-of-type {\n",
       "        vertical-align: middle;\n",
       "    }\n",
       "\n",
       "    .dataframe tbody tr th {\n",
       "        vertical-align: top;\n",
       "    }\n",
       "\n",
       "    .dataframe thead th {\n",
       "        text-align: right;\n",
       "    }\n",
       "</style>\n",
       "<table border=\"1\" class=\"dataframe\">\n",
       "  <thead>\n",
       "    <tr style=\"text-align: right;\">\n",
       "      <th>InvoiceDate</th>\n",
       "      <th>2011-01</th>\n",
       "      <th>2011-02</th>\n",
       "      <th>2011-03</th>\n",
       "      <th>2011-04</th>\n",
       "      <th>2011-05</th>\n",
       "      <th>2011-06</th>\n",
       "      <th>2011-07</th>\n",
       "      <th>2011-08</th>\n",
       "      <th>2011-09</th>\n",
       "      <th>2011-10</th>\n",
       "      <th>2011-11</th>\n",
       "      <th>2011-12</th>\n",
       "    </tr>\n",
       "    <tr>\n",
       "      <th>Cohort</th>\n",
       "      <th></th>\n",
       "      <th></th>\n",
       "      <th></th>\n",
       "      <th></th>\n",
       "      <th></th>\n",
       "      <th></th>\n",
       "      <th></th>\n",
       "      <th></th>\n",
       "      <th></th>\n",
       "      <th></th>\n",
       "      <th></th>\n",
       "      <th></th>\n",
       "    </tr>\n",
       "  </thead>\n",
       "  <tbody>\n",
       "    <tr>\n",
       "      <th>1</th>\n",
       "      <td>100.0</td>\n",
       "      <td>38.2</td>\n",
       "      <td>44.2</td>\n",
       "      <td>39.0</td>\n",
       "      <td>45.8</td>\n",
       "      <td>43.3</td>\n",
       "      <td>40.1</td>\n",
       "      <td>39.7</td>\n",
       "      <td>44.3</td>\n",
       "      <td>43.4</td>\n",
       "      <td>52.7</td>\n",
       "      <td>28.6</td>\n",
       "    </tr>\n",
       "    <tr>\n",
       "      <th>2</th>\n",
       "      <td>NaN</td>\n",
       "      <td>100.0</td>\n",
       "      <td>28.9</td>\n",
       "      <td>25.1</td>\n",
       "      <td>33.9</td>\n",
       "      <td>31.7</td>\n",
       "      <td>27.9</td>\n",
       "      <td>30.5</td>\n",
       "      <td>33.9</td>\n",
       "      <td>31.5</td>\n",
       "      <td>36.9</td>\n",
       "      <td>14.8</td>\n",
       "    </tr>\n",
       "    <tr>\n",
       "      <th>3</th>\n",
       "      <td>NaN</td>\n",
       "      <td>NaN</td>\n",
       "      <td>100.0</td>\n",
       "      <td>20.6</td>\n",
       "      <td>27.2</td>\n",
       "      <td>24.2</td>\n",
       "      <td>23.2</td>\n",
       "      <td>19.6</td>\n",
       "      <td>28.5</td>\n",
       "      <td>24.7</td>\n",
       "      <td>31.1</td>\n",
       "      <td>10.8</td>\n",
       "    </tr>\n",
       "    <tr>\n",
       "      <th>4</th>\n",
       "      <td>NaN</td>\n",
       "      <td>NaN</td>\n",
       "      <td>NaN</td>\n",
       "      <td>100.0</td>\n",
       "      <td>25.0</td>\n",
       "      <td>25.0</td>\n",
       "      <td>23.9</td>\n",
       "      <td>21.7</td>\n",
       "      <td>24.4</td>\n",
       "      <td>25.0</td>\n",
       "      <td>29.2</td>\n",
       "      <td>9.2</td>\n",
       "    </tr>\n",
       "    <tr>\n",
       "      <th>5</th>\n",
       "      <td>NaN</td>\n",
       "      <td>NaN</td>\n",
       "      <td>NaN</td>\n",
       "      <td>NaN</td>\n",
       "      <td>100.0</td>\n",
       "      <td>23.0</td>\n",
       "      <td>18.0</td>\n",
       "      <td>18.3</td>\n",
       "      <td>23.0</td>\n",
       "      <td>25.2</td>\n",
       "      <td>27.4</td>\n",
       "      <td>10.7</td>\n",
       "    </tr>\n",
       "    <tr>\n",
       "      <th>6</th>\n",
       "      <td>NaN</td>\n",
       "      <td>NaN</td>\n",
       "      <td>NaN</td>\n",
       "      <td>NaN</td>\n",
       "      <td>NaN</td>\n",
       "      <td>100.0</td>\n",
       "      <td>21.3</td>\n",
       "      <td>18.3</td>\n",
       "      <td>25.5</td>\n",
       "      <td>24.0</td>\n",
       "      <td>33.8</td>\n",
       "      <td>10.3</td>\n",
       "    </tr>\n",
       "    <tr>\n",
       "      <th>7</th>\n",
       "      <td>NaN</td>\n",
       "      <td>NaN</td>\n",
       "      <td>NaN</td>\n",
       "      <td>NaN</td>\n",
       "      <td>NaN</td>\n",
       "      <td>NaN</td>\n",
       "      <td>100.0</td>\n",
       "      <td>20.6</td>\n",
       "      <td>21.6</td>\n",
       "      <td>24.3</td>\n",
       "      <td>26.6</td>\n",
       "      <td>13.8</td>\n",
       "    </tr>\n",
       "    <tr>\n",
       "      <th>8</th>\n",
       "      <td>NaN</td>\n",
       "      <td>NaN</td>\n",
       "      <td>NaN</td>\n",
       "      <td>NaN</td>\n",
       "      <td>NaN</td>\n",
       "      <td>NaN</td>\n",
       "      <td>NaN</td>\n",
       "      <td>100.0</td>\n",
       "      <td>25.5</td>\n",
       "      <td>25.5</td>\n",
       "      <td>26.1</td>\n",
       "      <td>14.7</td>\n",
       "    </tr>\n",
       "    <tr>\n",
       "      <th>9</th>\n",
       "      <td>NaN</td>\n",
       "      <td>NaN</td>\n",
       "      <td>NaN</td>\n",
       "      <td>NaN</td>\n",
       "      <td>NaN</td>\n",
       "      <td>NaN</td>\n",
       "      <td>NaN</td>\n",
       "      <td>NaN</td>\n",
       "      <td>100.0</td>\n",
       "      <td>29.7</td>\n",
       "      <td>33.2</td>\n",
       "      <td>12.5</td>\n",
       "    </tr>\n",
       "    <tr>\n",
       "      <th>10</th>\n",
       "      <td>NaN</td>\n",
       "      <td>NaN</td>\n",
       "      <td>NaN</td>\n",
       "      <td>NaN</td>\n",
       "      <td>NaN</td>\n",
       "      <td>NaN</td>\n",
       "      <td>NaN</td>\n",
       "      <td>NaN</td>\n",
       "      <td>NaN</td>\n",
       "      <td>100.0</td>\n",
       "      <td>26.7</td>\n",
       "      <td>12.7</td>\n",
       "    </tr>\n",
       "    <tr>\n",
       "      <th>11</th>\n",
       "      <td>NaN</td>\n",
       "      <td>NaN</td>\n",
       "      <td>NaN</td>\n",
       "      <td>NaN</td>\n",
       "      <td>NaN</td>\n",
       "      <td>NaN</td>\n",
       "      <td>NaN</td>\n",
       "      <td>NaN</td>\n",
       "      <td>NaN</td>\n",
       "      <td>NaN</td>\n",
       "      <td>100.0</td>\n",
       "      <td>13.1</td>\n",
       "    </tr>\n",
       "    <tr>\n",
       "      <th>12</th>\n",
       "      <td>NaN</td>\n",
       "      <td>NaN</td>\n",
       "      <td>NaN</td>\n",
       "      <td>NaN</td>\n",
       "      <td>NaN</td>\n",
       "      <td>NaN</td>\n",
       "      <td>NaN</td>\n",
       "      <td>NaN</td>\n",
       "      <td>NaN</td>\n",
       "      <td>NaN</td>\n",
       "      <td>NaN</td>\n",
       "      <td>100.0</td>\n",
       "    </tr>\n",
       "  </tbody>\n",
       "</table>\n",
       "</div>"
      ],
      "text/plain": [
       "InvoiceDate  2011-01  2011-02  2011-03  2011-04  2011-05  2011-06  2011-07  \\\n",
       "Cohort                                                                       \n",
       "1              100.0     38.2     44.2     39.0     45.8     43.3     40.1   \n",
       "2                NaN    100.0     28.9     25.1     33.9     31.7     27.9   \n",
       "3                NaN      NaN    100.0     20.6     27.2     24.2     23.2   \n",
       "4                NaN      NaN      NaN    100.0     25.0     25.0     23.9   \n",
       "5                NaN      NaN      NaN      NaN    100.0     23.0     18.0   \n",
       "6                NaN      NaN      NaN      NaN      NaN    100.0     21.3   \n",
       "7                NaN      NaN      NaN      NaN      NaN      NaN    100.0   \n",
       "8                NaN      NaN      NaN      NaN      NaN      NaN      NaN   \n",
       "9                NaN      NaN      NaN      NaN      NaN      NaN      NaN   \n",
       "10               NaN      NaN      NaN      NaN      NaN      NaN      NaN   \n",
       "11               NaN      NaN      NaN      NaN      NaN      NaN      NaN   \n",
       "12               NaN      NaN      NaN      NaN      NaN      NaN      NaN   \n",
       "\n",
       "InvoiceDate  2011-08  2011-09  2011-10  2011-11  2011-12  \n",
       "Cohort                                                    \n",
       "1               39.7     44.3     43.4     52.7     28.6  \n",
       "2               30.5     33.9     31.5     36.9     14.8  \n",
       "3               19.6     28.5     24.7     31.1     10.8  \n",
       "4               21.7     24.4     25.0     29.2      9.2  \n",
       "5               18.3     23.0     25.2     27.4     10.7  \n",
       "6               18.3     25.5     24.0     33.8     10.3  \n",
       "7               20.6     21.6     24.3     26.6     13.8  \n",
       "8              100.0     25.5     25.5     26.1     14.7  \n",
       "9                NaN    100.0     29.7     33.2     12.5  \n",
       "10               NaN      NaN    100.0     26.7     12.7  \n",
       "11               NaN      NaN      NaN    100.0     13.1  \n",
       "12               NaN      NaN      NaN      NaN    100.0  "
      ]
     },
     "execution_count": 472,
     "metadata": {},
     "output_type": "execute_result"
    }
   ],
   "source": [
    "# In this section retention analysis is conducted grouping customers based on their first purchase dates \n",
    "\n",
    "# For our purpose it's only necessary to get columns 'InvoiceDate' and 'CustomerID'\n",
    "# Because a purchase can have more than one items bought let's delete all the duplicates from the table\n",
    "\n",
    "data_set = data_set[['CustomerID','InvoiceDate']].drop_duplicates()\n",
    "\n",
    "\n",
    "\n",
    "# Adding a new column with month numbers when purchases were made \n",
    "\n",
    "data_set['MonthNo'] = data_set['InvoiceDate'].map(lambda x: x.month)\n",
    "\n",
    "# data_set['OrderMonth'] = data_set['InvoiceDate'].dt.to_period('M')\n",
    "\n",
    "\n",
    "\n",
    "# Adding a new column with month numbers when the first purchase was made for each customer \n",
    "\n",
    "data_set['Cohort'] = data_set['InvoiceDate'].groupby(data_set['CustomerID']).transform('min').map(lambda x: x.month)\n",
    "\n",
    "\n",
    "\n",
    "# Computing the numbers of unique customers from one cohort making purchases in each month in 2011\n",
    "\n",
    "cohort_month_customers = data_set.groupby(['Cohort','MonthNo']).agg(UniqCustomers = ('CustomerID','nunique')).reset_index()\n",
    "\n",
    "\n",
    "\n",
    "# Creating a more visually appropriate table using the pivot table method \n",
    "\n",
    "retention_by_cohorts = cohort_month_customers.pivot_table(values = 'UniqCustomers', index = 'Cohort', columns = 'MonthNo') \n",
    "\n",
    "\n",
    "\n",
    "# To get the table with retention rates instead of absolute values let's take a series containing the total numbers of active \n",
    "# customers for each cohort \n",
    "\n",
    "total_active_customers = pd.Series(range(len(retention_by_cohorts.index)))\n",
    "\n",
    "total_active_customers.index = retention_by_cohorts.index\n",
    "\n",
    "\n",
    "\n",
    "for i in range(len(retention_by_cohorts.index)):\n",
    "    \n",
    "    total_active_customers[i+1] = cohort_month_customers[(cohort_month_customers['Cohort'] == i+1) & \\\n",
    "                                                         (cohort_month_customers['MonthNo'] == i+1)]['UniqCustomers']\n",
    "\n",
    "\n",
    "\n",
    "# Eventually, absolute values are divided by total numbers and multiplied by 100 \n",
    "\n",
    "retention_rates_by_cohorts = retention_by_cohorts.divide(s, axis = 0) * 100\n",
    "\n",
    "\n",
    "\n",
    "# Rounding the values to one decimals and changing columns names\n",
    "\n",
    "retention_rates_by_cohorts = retention_rates_by_cohorts.applymap(lambda x: round(x, 1))\n",
    "\n",
    "retention_rates_by_cohorts.columns = data_set['InvoiceDate'].dt.to_period('M').drop_duplicates()\n",
    "\n",
    "retention_rates_by_cohorts"
   ]
  },
  {
   "cell_type": "code",
   "execution_count": 473,
   "id": "8d58c5e7",
   "metadata": {},
   "outputs": [],
   "source": [
    "# Writing the resulting data out to files\n",
    "\n",
    "retention_rates_by_cohorts.to_csv('Results/retention_rates_by_cohorts.csv')"
   ]
  }
 ],
 "metadata": {
  "kernelspec": {
   "display_name": "Python 3",
   "language": "python",
   "name": "python3"
  },
  "language_info": {
   "codemirror_mode": {
    "name": "ipython",
    "version": 3
   },
   "file_extension": ".py",
   "mimetype": "text/x-python",
   "name": "python",
   "nbconvert_exporter": "python",
   "pygments_lexer": "ipython3",
   "version": "3.8.8"
  }
 },
 "nbformat": 4,
 "nbformat_minor": 5
}
